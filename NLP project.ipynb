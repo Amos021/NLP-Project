{
 "cells": [
  {
   "cell_type": "code",
   "execution_count": null,
   "metadata": {},
   "outputs": [],
   "source": [
    "import pandas as pd\n",
    "import numpy as np\n",
    "import re\n",
    "import nltk\n",
    "from nltk.corpus import stopwords\n",
    "from textblob import TextBlob\n",
    "from sklearn.feature_extraction.text import TfidfVectorizer\n",
    "from sklearn.linear_model import LogisticRegression\n",
    "from sklearn.metrics import accuracy_score, precision_score, recall_score, f1_score\n",
    "from sklearn.model_selection import train_test_split"
   ]
  },
  {
   "cell_type": "code",
   "execution_count": null,
   "metadata": {},
   "outputs": [],
   "source": [
    "# Load the customer feedback dataset\n",
    "df = pd.DataFrame()\n",
    "df = pd.read_csv('customer_feedback.csv')\n",
    "df.head()"
   ]
  },
  {
   "cell_type": "code",
   "execution_count": null,
   "metadata": {},
   "outputs": [],
   "source": [
    "# Preprocessing the text data\n",
    "stop_words = set(stopwords.words('english'))\n",
    "df['clean_text'] = df['feedback'].apply(lambda x: ' '.join([word for word in x.lower().split() if word not in stop_words]))\n",
    "df['clean_text'] = df['clean_text'].apply(lambda x: re.sub(r'[^\\w\\s]', '', x))"
   ]
  },
  {
   "cell_type": "code",
   "execution_count": null,
   "metadata": {},
   "outputs": [],
   "source": [
    "#sentiment analyzer\n",
    "def get_sentiment(text):\n",
    "    blob = TextBlob(text)\n",
    "    return blob.sentiment.polarity, blob.sentiment.subjectivity\n",
    "# Define a function to apply sentiment analysis to each row of text\n",
    "def analyze_sentiment(row):\n",
    "    text = row['feedback']\n",
    "    polarity, subjectivity = get_sentiment(text)\n",
    "    return pd.Series({'polarity': polarity, 'subjectivity': subjectivity})\n",
    "\n",
    "# Apply the sentiment analysis function to each row of the DataFrame\n",
    "import pandas as pd\n",
    "df = pd.DataFrame()\n",
    "sentiment_df = df.apply(analyze_sentiment, axis=1)\n",
    "\n",
    "# Merge the sentiment scores back into the original DataFrame\n",
    "df = pd.concat([df, sentiment_df], axis=1)\n",
    "\n",
    "# Print the first few rows of the updated DataFrame\n",
    "print(df.head())"
   ]
  },
  {
   "cell_type": "code",
   "execution_count": null,
   "metadata": {},
   "outputs": [],
   "source": [
    "# Feature extraction using TF-IDF\n",
    "tfidf = TfidfVectorizer()\n",
    "X = tfidf.fit_transform(df['clean_text'])\n",
    "y = df['feedback']"
   ]
  },
  {
   "cell_type": "code",
   "execution_count": null,
   "metadata": {},
   "outputs": [],
   "source": [
    "# Train-test split\n",
    "X_train, X_test, y_train, y_test = train_test_split(X, y, test_size=0.2, random_state=42)"
   ]
  },
  {
   "cell_type": "code",
   "execution_count": null,
   "metadata": {},
   "outputs": [],
   "source": [
    "# Train a logistic regression model\n",
    "lr = LogisticRegression()\n",
    "lr.fit(X_train, y_train)"
   ]
  },
  {
   "cell_type": "code",
   "execution_count": null,
   "metadata": {},
   "outputs": [],
   "source": [
    "# Predict on the test set\n",
    "y_pred = lr.predict(X_test)"
   ]
  },
  {
   "cell_type": "code",
   "execution_count": null,
   "metadata": {},
   "outputs": [],
   "source": [
    "# Evaluate the model performance\n",
    "accuracy = accuracy_score(y_test, y_pred)\n",
    "precision = precision_score(y_test, y_pred, average='weighted')\n",
    "recall = recall_score(y_test, y_pred, average='weighted')\n",
    "f1 = f1_score(y_test, y_pred, average='weighted')\n",
    "print('Accuracy: {:.2f}'.format(accuracy))\n",
    "print('Precision: {:.2f}'.format(precision))\n",
    "print('Recall: {:.2f}'.format(recall))\n",
    "print('F1-score: {:.2f}'.format(f1))"
   ]
  },
  {
   "cell_type": "code",
   "execution_count": null,
   "metadata": {},
   "outputs": [],
   "source": [
    "import pandas as pd\n",
    "import re\n",
    "from nltk.corpus import stopwords\n",
    "from sklearn.feature_extraction.text import TfidfVectorizer\n",
    "stop_words = set(stopwords.words('english'))\n",
    "new_feedback = ['This product is great!', 'I had a terrible experience with this service.', 'The quality is just okay.']\n",
    "new_feedback_clean = pd.Series(new_feedback).apply(lambda x: ' '.join([word for word in x.lower().split() if word not in stop_words]))\n",
    "new_feedback_clean = new_feedback_clean.apply(lambda x: re.sub(r'[^\\w\\s]', '', x))\n",
    "tfidf = TfidfVectorizer()\n",
    "df = pd.DataFrame()\n",
    "X = tfidf.fit_transform(df['clean_text'])\n",
    "new_X = tfidf.transform(new_feedback_clean)\n",
    "new_y = lr.predict(new_X)\n",
    "print('New feedback classification:', new_y)"
   ]
  },
  {
   "cell_type": "code",
   "execution_count": null,
   "metadata": {},
   "outputs": [],
   "source": [
    "import pandas as pd\n",
    "#Translator\n",
    "# load the CSV file containing translations\n",
    "try:\n",
    "    translations_df = pd.read_csv('translated.csv')\n",
    "except FileNotFoundError:\n",
    "    print(\"Error: Could not find the translated.csv file.\")\n",
    "\n",
    "# check if the DataFrame has the expected columns\n",
    "if 'Swahili' not in translations_df.columns:\n",
    "    print(\"Error: The translated.csv file does not have a 'source' column.\")\n",
    "if 'English' not in translations_df.columns:\n",
    "    print(\"Error: The translated.csv file does not have a 'target' column.\")\n",
    "\n",
    "# create a dictionary mapping source words to translations\n",
    "translations_dict = dict(zip(translations_df['Swahili'], translations_df['English']))\n",
    "\n",
    "# define a function to translate sentences\n",
    "def translate(sentence):\n",
    "    words = sentence.split()\n",
    "    translated_words = []\n",
    "    for word in words:\n",
    "        translated_word = translations_dict.get(word, word)\n",
    "        translated_words.append(translated_word)\n",
    "    translated_sentence = ' '.join(translated_words)\n",
    "    return translated_sentence\n",
    "\n",
    "#the translation function\n",
    "translation = translate(New feedback classification)\n",
    "print(translation)"
   ]
  },
  {
   "cell_type": "code",
   "execution_count": null,
   "metadata": {},
   "outputs": [],
   "source": []
  }
 ],
 "metadata": {
  "kernelspec": {
   "display_name": "Python 3",
   "language": "python",
   "name": "python3"
  },
  "language_info": {
   "codemirror_mode": {
    "name": "ipython",
    "version": 3
   },
   "file_extension": ".py",
   "mimetype": "text/x-python",
   "name": "python",
   "nbconvert_exporter": "python",
   "pygments_lexer": "ipython3",
   "version": "3.8.5"
  }
 },
 "nbformat": 4,
 "nbformat_minor": 4
}
